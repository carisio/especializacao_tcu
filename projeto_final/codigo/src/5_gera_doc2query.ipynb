{
 "cells": [
  {
   "cell_type": "markdown",
   "id": "df6f697b-d702-40c6-a3d9-503a264f96c3",
   "metadata": {},
   "source": [
    "# Caderno 5 - Aplica doc2query"
   ]
  },
  {
   "cell_type": "markdown",
   "id": "5cd65159-0b18-4fdf-b252-54a55fa1f39c",
   "metadata": {},
   "source": [
    "## 1. Carrega os documentos para aplicar o doc2query"
   ]
  },
  {
   "cell_type": "code",
   "execution_count": 15,
   "id": "a3e444e9-8b2e-4fe5-a8a4-a458f5b8a23d",
   "metadata": {},
   "outputs": [],
   "source": [
    "import pandas as pd\n",
    "\n",
    "PASTA_DADOS = './dados/'\n",
    "PASTA_RESULTADO_CADERNO = f'{PASTA_DADOS}outputs/5_doc2query/'\n",
    "NOME_ARQUIVO_DOC2QUERY = f'{PASTA_RESULTADO_CADERNO}doc2query.pickle'\n",
    "\n",
    "# A pasta dos JURIS aqui não é a pasta original, e sim o resultado do caderno 1 (os documentos já estão filtrados)\n",
    "PASTA_JURIS_TCU = f'{PASTA_DADOS}outputs/1_tratamento_juris_tcu/'\n",
    "\n",
    "# Carrega os arquivos \n",
    "def carrega_juris_tcu():\n",
    "    doc1 = pd.read_csv(f'{PASTA_JURIS_TCU}doc_tratado_parte_1.csv', sep='|')\n",
    "    doc2 = pd.read_csv(f'{PASTA_JURIS_TCU}doc_tratado_parte_2.csv', sep='|')\n",
    "    doc3 = pd.read_csv(f'{PASTA_JURIS_TCU}doc_tratado_parte_3.csv', sep='|')\n",
    "    doc4 = pd.read_csv(f'{PASTA_JURIS_TCU}doc_tratado_parte_4.csv', sep='|')\n",
    "    doc = pd.concat([doc1, doc2, doc3, doc4], ignore_index=True)\n",
    "    query = pd.read_csv(f'{PASTA_JURIS_TCU}query_tratado.csv', sep='|')\n",
    "    qrel = pd.read_csv(f'{PASTA_JURIS_TCU}qrel_tratado.csv', sep='|')\n",
    "\n",
    "    return doc, query, qrel\n",
    "\n",
    "docs, _, _ = carrega_juris_tcu()"
   ]
  },
  {
   "cell_type": "markdown",
   "id": "b6d49423-a052-47bb-92f1-552f3d438d71",
   "metadata": {},
   "source": [
    "## 2. Carrega o modelo e aloca na GPU/CPU. Função para gerar as queries."
   ]
  },
  {
   "cell_type": "markdown",
   "id": "062afdd0-42d1-41ac-beec-2b79d6042437",
   "metadata": {},
   "source": [
    "Peguei o exemplo direto do site do modelo e adaptei: https://huggingface.co/doc2query/msmarco-portuguese-mt5-base-v1\n",
    "\n",
    "O ideal era aplicar isso em batch."
   ]
  },
  {
   "cell_type": "code",
   "execution_count": 16,
   "id": "d8c6c1c2-e90f-404a-9a82-2211908fe5b5",
   "metadata": {},
   "outputs": [
    {
     "data": {
      "text/plain": [
       "MT5ForConditionalGeneration(\n",
       "  (shared): Embedding(250112, 768)\n",
       "  (encoder): MT5Stack(\n",
       "    (embed_tokens): Embedding(250112, 768)\n",
       "    (block): ModuleList(\n",
       "      (0): MT5Block(\n",
       "        (layer): ModuleList(\n",
       "          (0): MT5LayerSelfAttention(\n",
       "            (SelfAttention): MT5Attention(\n",
       "              (q): Linear(in_features=768, out_features=768, bias=False)\n",
       "              (k): Linear(in_features=768, out_features=768, bias=False)\n",
       "              (v): Linear(in_features=768, out_features=768, bias=False)\n",
       "              (o): Linear(in_features=768, out_features=768, bias=False)\n",
       "              (relative_attention_bias): Embedding(32, 12)\n",
       "            )\n",
       "            (layer_norm): MT5LayerNorm()\n",
       "            (dropout): Dropout(p=0.1, inplace=False)\n",
       "          )\n",
       "          (1): MT5LayerFF(\n",
       "            (DenseReluDense): MT5DenseGatedActDense(\n",
       "              (wi_0): Linear(in_features=768, out_features=2048, bias=False)\n",
       "              (wi_1): Linear(in_features=768, out_features=2048, bias=False)\n",
       "              (wo): Linear(in_features=2048, out_features=768, bias=False)\n",
       "              (dropout): Dropout(p=0.1, inplace=False)\n",
       "              (act): NewGELUActivation()\n",
       "            )\n",
       "            (layer_norm): MT5LayerNorm()\n",
       "            (dropout): Dropout(p=0.1, inplace=False)\n",
       "          )\n",
       "        )\n",
       "      )\n",
       "      (1-11): 11 x MT5Block(\n",
       "        (layer): ModuleList(\n",
       "          (0): MT5LayerSelfAttention(\n",
       "            (SelfAttention): MT5Attention(\n",
       "              (q): Linear(in_features=768, out_features=768, bias=False)\n",
       "              (k): Linear(in_features=768, out_features=768, bias=False)\n",
       "              (v): Linear(in_features=768, out_features=768, bias=False)\n",
       "              (o): Linear(in_features=768, out_features=768, bias=False)\n",
       "            )\n",
       "            (layer_norm): MT5LayerNorm()\n",
       "            (dropout): Dropout(p=0.1, inplace=False)\n",
       "          )\n",
       "          (1): MT5LayerFF(\n",
       "            (DenseReluDense): MT5DenseGatedActDense(\n",
       "              (wi_0): Linear(in_features=768, out_features=2048, bias=False)\n",
       "              (wi_1): Linear(in_features=768, out_features=2048, bias=False)\n",
       "              (wo): Linear(in_features=2048, out_features=768, bias=False)\n",
       "              (dropout): Dropout(p=0.1, inplace=False)\n",
       "              (act): NewGELUActivation()\n",
       "            )\n",
       "            (layer_norm): MT5LayerNorm()\n",
       "            (dropout): Dropout(p=0.1, inplace=False)\n",
       "          )\n",
       "        )\n",
       "      )\n",
       "    )\n",
       "    (final_layer_norm): MT5LayerNorm()\n",
       "    (dropout): Dropout(p=0.1, inplace=False)\n",
       "  )\n",
       "  (decoder): MT5Stack(\n",
       "    (embed_tokens): Embedding(250112, 768)\n",
       "    (block): ModuleList(\n",
       "      (0): MT5Block(\n",
       "        (layer): ModuleList(\n",
       "          (0): MT5LayerSelfAttention(\n",
       "            (SelfAttention): MT5Attention(\n",
       "              (q): Linear(in_features=768, out_features=768, bias=False)\n",
       "              (k): Linear(in_features=768, out_features=768, bias=False)\n",
       "              (v): Linear(in_features=768, out_features=768, bias=False)\n",
       "              (o): Linear(in_features=768, out_features=768, bias=False)\n",
       "              (relative_attention_bias): Embedding(32, 12)\n",
       "            )\n",
       "            (layer_norm): MT5LayerNorm()\n",
       "            (dropout): Dropout(p=0.1, inplace=False)\n",
       "          )\n",
       "          (1): MT5LayerCrossAttention(\n",
       "            (EncDecAttention): MT5Attention(\n",
       "              (q): Linear(in_features=768, out_features=768, bias=False)\n",
       "              (k): Linear(in_features=768, out_features=768, bias=False)\n",
       "              (v): Linear(in_features=768, out_features=768, bias=False)\n",
       "              (o): Linear(in_features=768, out_features=768, bias=False)\n",
       "            )\n",
       "            (layer_norm): MT5LayerNorm()\n",
       "            (dropout): Dropout(p=0.1, inplace=False)\n",
       "          )\n",
       "          (2): MT5LayerFF(\n",
       "            (DenseReluDense): MT5DenseGatedActDense(\n",
       "              (wi_0): Linear(in_features=768, out_features=2048, bias=False)\n",
       "              (wi_1): Linear(in_features=768, out_features=2048, bias=False)\n",
       "              (wo): Linear(in_features=2048, out_features=768, bias=False)\n",
       "              (dropout): Dropout(p=0.1, inplace=False)\n",
       "              (act): NewGELUActivation()\n",
       "            )\n",
       "            (layer_norm): MT5LayerNorm()\n",
       "            (dropout): Dropout(p=0.1, inplace=False)\n",
       "          )\n",
       "        )\n",
       "      )\n",
       "      (1-11): 11 x MT5Block(\n",
       "        (layer): ModuleList(\n",
       "          (0): MT5LayerSelfAttention(\n",
       "            (SelfAttention): MT5Attention(\n",
       "              (q): Linear(in_features=768, out_features=768, bias=False)\n",
       "              (k): Linear(in_features=768, out_features=768, bias=False)\n",
       "              (v): Linear(in_features=768, out_features=768, bias=False)\n",
       "              (o): Linear(in_features=768, out_features=768, bias=False)\n",
       "            )\n",
       "            (layer_norm): MT5LayerNorm()\n",
       "            (dropout): Dropout(p=0.1, inplace=False)\n",
       "          )\n",
       "          (1): MT5LayerCrossAttention(\n",
       "            (EncDecAttention): MT5Attention(\n",
       "              (q): Linear(in_features=768, out_features=768, bias=False)\n",
       "              (k): Linear(in_features=768, out_features=768, bias=False)\n",
       "              (v): Linear(in_features=768, out_features=768, bias=False)\n",
       "              (o): Linear(in_features=768, out_features=768, bias=False)\n",
       "            )\n",
       "            (layer_norm): MT5LayerNorm()\n",
       "            (dropout): Dropout(p=0.1, inplace=False)\n",
       "          )\n",
       "          (2): MT5LayerFF(\n",
       "            (DenseReluDense): MT5DenseGatedActDense(\n",
       "              (wi_0): Linear(in_features=768, out_features=2048, bias=False)\n",
       "              (wi_1): Linear(in_features=768, out_features=2048, bias=False)\n",
       "              (wo): Linear(in_features=2048, out_features=768, bias=False)\n",
       "              (dropout): Dropout(p=0.1, inplace=False)\n",
       "              (act): NewGELUActivation()\n",
       "            )\n",
       "            (layer_norm): MT5LayerNorm()\n",
       "            (dropout): Dropout(p=0.1, inplace=False)\n",
       "          )\n",
       "        )\n",
       "      )\n",
       "    )\n",
       "    (final_layer_norm): MT5LayerNorm()\n",
       "    (dropout): Dropout(p=0.1, inplace=False)\n",
       "  )\n",
       "  (lm_head): Linear(in_features=768, out_features=250112, bias=False)\n",
       ")"
      ]
     },
     "execution_count": 16,
     "metadata": {},
     "output_type": "execute_result"
    }
   ],
   "source": [
    "from transformers import AutoTokenizer, AutoModelForSeq2SeqLM\n",
    "import torch\n",
    "\n",
    "device = 'cuda' if torch.cuda.is_available() else 'cpu'\n",
    "\n",
    "model_name = 'doc2query/msmarco-portuguese-mt5-base-v1'\n",
    "tokenizer = AutoTokenizer.from_pretrained(model_name)\n",
    "model = AutoModelForSeq2SeqLM.from_pretrained(model_name)\n",
    "\n",
    "model.to(device)"
   ]
  },
  {
   "cell_type": "code",
   "execution_count": 17,
   "id": "ff9052cc-622b-4bca-9e5a-769dc4c14888",
   "metadata": {},
   "outputs": [],
   "source": [
    "def doc2query(texto, random_sampling=True, num_return_sequences=5, top_p=0.95, top_k=10, max_length=64, seed=None):\n",
    "    input_ids = tokenizer.encode(texto, return_tensors='pt').to(device)\n",
    "\n",
    "    if seed is not None:\n",
    "        torch.manual_seed(seed)\n",
    "    \n",
    "    with torch.no_grad():\n",
    "        # Here we use top_k / top_k random sampling. It generates more diverse queries, but of lower quality\n",
    "        if random_sampling:\n",
    "            outputs = model.generate(\n",
    "                input_ids=input_ids,\n",
    "                max_length=max_length,\n",
    "                do_sample=True,\n",
    "                top_p=top_p,\n",
    "                top_k=top_k,\n",
    "                num_return_sequences=num_return_sequences\n",
    "            )\n",
    "        else:\n",
    "            # Here we use Beam-search. It generates better quality queries, but with less diversity\n",
    "            outputs = model.generate(\n",
    "                input_ids=input_ids, \n",
    "                max_length=max_length, \n",
    "                num_beams=num_return_sequences, \n",
    "                no_repeat_ngram_size=2, \n",
    "                num_return_sequences=num_return_sequences, \n",
    "                early_stopping=True\n",
    "            )\n",
    "        \n",
    "    queries = [tokenizer.decode(out, skip_special_tokens=True) for out in outputs]\n",
    "    return queries"
   ]
  },
  {
   "cell_type": "markdown",
   "id": "3466cad7-b08f-42d7-99f9-0d344a0df1a4",
   "metadata": {},
   "source": [
    "## 3. Aplica doc2query"
   ]
  },
  {
   "cell_type": "markdown",
   "id": "c68fd767-2ade-43c5-832e-b3c7c9c9517b",
   "metadata": {},
   "source": [
    "Gera um exemplo qualquer:"
   ]
  },
  {
   "cell_type": "code",
   "execution_count": 18,
   "id": "fbd42080",
   "metadata": {},
   "outputs": [
    {
     "data": {
      "text/plain": [
       "['o que significa marco interruptivo',\n",
       " 'o que é um marco interruptivo da presscrição?',\n",
       " 'definição do marco interruptivo de prescrição de hipotecas',\n",
       " 'o que é um marco interruptivo da prescrição',\n",
       " 'definir tcu marco interruptivo']"
      ]
     },
     "execution_count": 18,
     "metadata": {},
     "output_type": "execute_result"
    }
   ],
   "source": [
    "text = \"Não caracteriza marco interruptivo da prescrição das pretensões punitiva e ressarcitória do TCU ato de investigação dos fatos que não contém medidas inequívocas de apuração de condutas individualmente descritas e imputadas ao responsável.\"\n",
    "doc2query(text, random_sampling=True, num_return_sequences=5, top_p=0.95, top_k=10, max_length=64, seed=42)"
   ]
  },
  {
   "cell_type": "markdown",
   "id": "f232308c-fa11-463f-aa10-41b9735d2dce",
   "metadata": {},
   "source": [
    "Agora aplica em toda a base:"
   ]
  },
  {
   "cell_type": "code",
   "execution_count": 19,
   "id": "5576f86a-a4e8-4f9f-ab09-f660952cf0d4",
   "metadata": {},
   "outputs": [
    {
     "name": "stderr",
     "output_type": "stream",
     "text": [
      "100%|██████████| 16045/16045 [2:01:32<00:00,  2.20it/s]  \n"
     ]
    }
   ],
   "source": [
    "import re\n",
    "import pickle\n",
    "from tqdm import tqdm\n",
    "\n",
    "def remove_html(html):\n",
    "    return re.sub(\"<[^>]*>\", \"\", html).strip()\n",
    "\n",
    "# Seta uma seed, por questões de reprudicibilidade\n",
    "torch.manual_seed(42)\n",
    "\n",
    "# Objeto que guardará as queries geradas por documento\n",
    "queries_por_doc = {}\n",
    "\n",
    "# Percorre o dataframe de ocumentos e gera as queries\n",
    "for i, row in tqdm(docs.iterrows(), total=len(docs)):\n",
    "    doc_key = row.KEY\n",
    "    enunciado = remove_html(row.ENUNCIADO)\n",
    "    queries_geradas = doc2query(enunciado)\n",
    "    queries_por_doc[doc_key] = queries_geradas\n",
    "\n",
    "# Salva num arquivo pickle\n",
    "with open(NOME_ARQUIVO_DOC2QUERY, 'wb') as f:\n",
    "    pickle.dump(queries_por_doc, f)"
   ]
  }
 ],
 "metadata": {
  "kernelspec": {
   "display_name": "Python 3 (ipykernel)",
   "language": "python",
   "name": "python3"
  },
  "language_info": {
   "codemirror_mode": {
    "name": "ipython",
    "version": 3
   },
   "file_extension": ".py",
   "mimetype": "text/x-python",
   "name": "python",
   "nbconvert_exporter": "python",
   "pygments_lexer": "ipython3",
   "version": "3.11.7"
  }
 },
 "nbformat": 4,
 "nbformat_minor": 5
}
