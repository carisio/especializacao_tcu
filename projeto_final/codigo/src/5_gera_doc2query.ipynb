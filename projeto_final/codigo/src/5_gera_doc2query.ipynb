{
 "cells": [
  {
   "cell_type": "markdown",
   "id": "df6f697b-d702-40c6-a3d9-503a264f96c3",
   "metadata": {},
   "source": [
    "# Caderno 5 - Aplica doc2query"
   ]
  },
  {
   "cell_type": "markdown",
   "id": "b6d49423-a052-47bb-92f1-552f3d438d71",
   "metadata": {},
   "source": [
    "## 1. Carrega o modelo e aloca na GPU/CPU"
   ]
  },
  {
   "cell_type": "code",
   "execution_count": 1,
   "id": "d8c6c1c2-e90f-404a-9a82-2211908fe5b5",
   "metadata": {},
   "outputs": [],
   "source": [
    "from transformers import AutoTokenizer, AutoModelForSeq2SeqLM\n",
    "import torch\n",
    "\n",
    "device = 'cuda' if torch.cuda.is_available() else 'cpu'\n",
    "\n",
    "tokenizer = AutoTokenizer.from_pretrained(model_name)\n",
    "model = AutoModelForSeq2SeqLM.from_pretrained(model_name)\n",
    "\n",
    "model.to(device)\n",
    "data = data.to(device)"
   ]
  },
  {
   "cell_type": "markdown",
   "id": "3466cad7-b08f-42d7-99f9-0d344a0df1a4",
   "metadata": {},
   "source": [
    "## 2. Aplica doc2query"
   ]
  },
  {
   "cell_type": "markdown",
   "id": "062afdd0-42d1-41ac-beec-2b79d6042437",
   "metadata": {},
   "source": [
    "Peguei o exemplo direto do site do modelo e adaptei: https://huggingface.co/doc2query/msmarco-portuguese-mt5-base-v1\n",
    "\n",
    "O ideal era aplicar isso em batch."
   ]
  },
  {
   "cell_type": "code",
   "execution_count": 33,
   "id": "e3064a21-ada6-460a-a98f-1e172cc021fb",
   "metadata": {},
   "outputs": [],
   "source": [
    "def doc2query(texto, random_sampling=True, num_return_sequences=5, top_p=0.95, top_k=10, max_length=64, seed=None):\n",
    "    input_ids = tokenizer.encode(texto, return_tensors='pt')\n",
    "\n",
    "    if seed is not None:\n",
    "        torch.manual_seed(seed)\n",
    "    \n",
    "    with torch.no_grad():\n",
    "        # Here we use top_k / top_k random sampling. It generates more diverse queries, but of lower quality\n",
    "        if random_sampling:\n",
    "            outputs = model.generate(\n",
    "                input_ids=input_ids,\n",
    "                max_length=max_length,\n",
    "                do_sample=True,\n",
    "                top_p=top_p,\n",
    "                top_k=top_k,\n",
    "                num_return_sequences=num_return_sequences\n",
    "            )\n",
    "        else:\n",
    "            # Here we use Beam-search. It generates better quality queries, but with less diversity\n",
    "            outputs = model.generate(\n",
    "                input_ids=input_ids, \n",
    "                max_length=max_length, \n",
    "                num_beams=num_return_sequences, \n",
    "                no_repeat_ngram_size=2, \n",
    "                num_return_sequences=num_return_sequences, \n",
    "                early_stopping=True\n",
    "            )\n",
    "        \n",
    "    queries = [tokenizer.decode(out, skip_special_tokens=True) for out in outputs]\n",
    "    return queries"
   ]
  },
  {
   "cell_type": "code",
   "execution_count": 39,
   "id": "eda449ee-92af-4115-9eb3-b42962e1f7a7",
   "metadata": {},
   "outputs": [
    {
     "data": {
      "text/plain": [
       "['definição de prescrição tcu',\n",
       " 'o que é uma prescrição de tcu?',\n",
       " 'é uma préscrição tcu suspensa e ressarcitória',\n",
       " 'definição de ato de investigação do tcu',\n",
       " 'definição de ato interruptivo da prescrição de pretensões punitivas e ressarcitória de tcu']"
      ]
     },
     "execution_count": 39,
     "metadata": {},
     "output_type": "execute_result"
    }
   ],
   "source": [
    "text = \"Não caracteriza marco interruptivo da prescrição das pretensões punitiva e ressarcitória do TCU ato de investigação dos fatos que não contém medidas inequívocas de apuração de condutas individualmente descritas e imputadas ao responsável.\"\n",
    "create_queries(text, random_sampling=True, num_return_sequences=5, top_p=0.95, top_k=10, max_length=64, seed=42)\n"
   ]
  }
 ],
 "metadata": {
  "kernelspec": {
   "display_name": "Python 3 (ipykernel)",
   "language": "python",
   "name": "python3"
  },
  "language_info": {
   "codemirror_mode": {
    "name": "ipython",
    "version": 3
   },
   "file_extension": ".py",
   "mimetype": "text/x-python",
   "name": "python",
   "nbconvert_exporter": "python",
   "pygments_lexer": "ipython3",
   "version": "3.11.7"
  }
 },
 "nbformat": 4,
 "nbformat_minor": 5
}
